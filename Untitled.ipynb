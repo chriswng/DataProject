{
 "cells": [
  {
   "cell_type": "code",
   "execution_count": 1,
   "metadata": {},
   "outputs": [],
   "source": [
    "\n",
    "import matplotlib\n",
    "import matplotlib.pyplot as plt\n",
    "import numpy as np\n",
    "import pandas as pd\n",
    "import os\n",
    "import geopandas as gp\n",
    "import shapely\n",
    "import fiona"
   ]
  },
  {
   "cell_type": "code",
   "execution_count": 2,
   "metadata": {},
   "outputs": [
    {
     "name": "stdout",
     "output_type": "stream",
     "text": [
      "loading from file\n",
      "done\n"
     ]
    }
   ],
   "source": [
    "if os.path.isfile(\"qldlocations.csv\"):\n",
    "    filepath = \"qldlocations.csv\"\n",
    "    print(\"loading from file\")\n",
    "else:\n",
    "    print(\"Put ur file there\")\n",
    "qldloc = pd.read_csv(filepath, low_memory=False)\n",
    "    #returns dataframe\n",
    "print(\"done\")"
   ]
  },
  {
   "cell_type": "code",
   "execution_count": 6,
   "metadata": {},
   "outputs": [
    {
     "data": {
      "text/plain": [
       "Crash_Ref_Number                                                  1\n",
       "Crash_Severity                                      Hospitalisation\n",
       "Crash_Year                                                     2001\n",
       "Crash_Month                                                 January\n",
       "Crash_Day_Of_Week                                            Monday\n",
       "Crash_Hour                                                        6\n",
       "Crash_Nature                                                Head-on\n",
       "Crash_Type                                            Multi-Vehicle\n",
       "Crash_Longitude_GDA94                                       153.052\n",
       "Crash_Latitude_GDA94                                       -27.5864\n",
       "Crash_Street                                              Gretel St\n",
       "Crash_Street_Intersecting                                       NaN\n",
       "State_Road_Name                                                 NaN\n",
       "Loc_Suburb                                          Sunnybank Hills\n",
       "Loc_Local_Government_Area                             Brisbane City\n",
       "Loc_Post_Code                                                  4109\n",
       "Loc_Police_Division                                    Acacia Ridge\n",
       "Loc_Police_District                                  South Brisbane\n",
       "Loc_Police_Region                                          Brisbane\n",
       "Loc_Queensland_Transport_Region                           SEQ South\n",
       "Loc_Main_Roads_Region                                  Metropolitan\n",
       "Loc_ABS_Statistical_Area_2                          Sunnybank Hills\n",
       "Loc_ABS_Statistical_Area_3                                Sunnybank\n",
       "Loc_ABS_Statistical_Area_4                         Brisbane - South\n",
       "Loc_ABS_Remoteness                                     Major Cities\n",
       "Loc_State_Electorate                                       Stretton\n",
       "Loc_Federal_Electorate                                      Moreton\n",
       "Crash_Controlling_Authority                      Locally-controlled\n",
       "Crash_Roadway_Feature                            No Roadway Feature\n",
       "Crash_Traffic_Control                            No traffic control\n",
       "Crash_Speed_Limit                                       0 - 50 km/h\n",
       "Crash_Road_Surface_Condition                           Sealed - Dry\n",
       "Crash_Atmospheric_Condition                                   Clear\n",
       "Crash_Lighting_Condition                                   Daylight\n",
       "Crash_Road_Horiz_Align                       Curved - view obscured\n",
       "Crash_Road_Vert_Align                                         Grade\n",
       "Crash_DCA_Code                                                  201\n",
       "Crash_DCA_Description              Veh'S Opposite Approach: Head On\n",
       "Crash_DCA_Group_Description                                 Head-on\n",
       "DCA_Key_Approach_Dir                                              S\n",
       "Count_Casualty_Fatality                                           0\n",
       "Count_Casualty_Hospitalised                                       1\n",
       "Count_Casualty_MedicallyTreated                                   0\n",
       "Count_Casualty_MinorInjury                                        0\n",
       "Count_Casualty_Total                                              1\n",
       "Count_Unit_Car                                                    1\n",
       "Count_Unit_Motorcycle_Moped                                       0\n",
       "Count_Unit_Truck                                                  0\n",
       "Count_Unit_Bus                                                    0\n",
       "Count_Unit_Bicycle                                                1\n",
       "Count_Unit_Pedestrian                                             0\n",
       "Count_Unit_Other                                                  0\n",
       "Name: 0, dtype: object"
      ]
     },
     "execution_count": 6,
     "metadata": {},
     "output_type": "execute_result"
    }
   ],
   "source": [
    "qldloc.iloc[0]"
   ]
  },
  {
   "cell_type": "code",
   "execution_count": 3,
   "metadata": {},
   "outputs": [],
   "source": [
    "spots = gp.GeoDataFrame.from_file(filepath)"
   ]
  },
  {
   "cell_type": "code",
   "execution_count": 4,
   "metadata": {},
   "outputs": [
    {
     "data": {
      "text/plain": [
       "<matplotlib.axes._subplots.AxesSubplot at 0x1ae6a4f98>"
      ]
     },
     "execution_count": 4,
     "metadata": {},
     "output_type": "execute_result"
    },
    {
     "data": {
      "image/png": "[encoded data removed]",
      "text/plain": [
       "<Figure size 432x288 with 1 Axes>"
      ]
     },
     "metadata": {
      "needs_background": "light"
     },
     "output_type": "display_data"
    }
   ],
   "source": [
    "spots.geometry.plot()"
   ]
  },
  {
   "cell_type": "code",
   "execution_count": 5,
   "metadata": {},
   "outputs": [
    {
     "name": "stdout",
     "output_type": "stream",
     "text": [
      "Crash_Ref_Number                                                  1\n",
      "Crash_Severity                                      Hospitalisation\n",
      "Crash_Year                                                     2001\n",
      "Crash_Month                                                 January\n",
      "Crash_Day_Of_Week                                            Monday\n",
      "Crash_Hour                                                        6\n",
      "Crash_Nature                                                Head-on\n",
      "Crash_Type                                            Multi-Vehicle\n",
      "Crash_Longitude_GDA94                                 153.052201118\n",
      "Crash_Latitude_GDA94                                  -27.586370056\n",
      "Crash_Street                                              Gretel St\n",
      "Crash_Street_Intersecting                                          \n",
      "State_Road_Name                                                    \n",
      "Loc_Suburb                                          Sunnybank Hills\n",
      "Loc_Local_Government_Area                             Brisbane City\n",
      "Loc_Post_Code                                                  4109\n",
      "Loc_Police_Division                                    Acacia Ridge\n",
      "Loc_Police_District                                  South Brisbane\n",
      "Loc_Police_Region                                          Brisbane\n",
      "Loc_Queensland_Transport_Region                           SEQ South\n",
      "Loc_Main_Roads_Region                                  Metropolitan\n",
      "Loc_ABS_Statistical_Area_2                          Sunnybank Hills\n",
      "Loc_ABS_Statistical_Area_3                                Sunnybank\n",
      "Loc_ABS_Statistical_Area_4                         Brisbane - South\n",
      "Loc_ABS_Remoteness                                     Major Cities\n",
      "Loc_State_Electorate                                       Stretton\n",
      "Loc_Federal_Electorate                                      Moreton\n",
      "Crash_Controlling_Authority                      Locally-controlled\n",
      "Crash_Roadway_Feature                            No Roadway Feature\n",
      "Crash_Traffic_Control                            No traffic control\n",
      "Crash_Speed_Limit                                       0 - 50 km/h\n",
      "Crash_Road_Surface_Condition                           Sealed - Dry\n",
      "Crash_Atmospheric_Condition                                   Clear\n",
      "Crash_Lighting_Condition                                   Daylight\n",
      "Crash_Road_Horiz_Align                       Curved - view obscured\n",
      "Crash_Road_Vert_Align                                         Grade\n",
      "Crash_DCA_Code                                                  201\n",
      "Crash_DCA_Description              Veh'S Opposite Approach: Head On\n",
      "Crash_DCA_Group_Description                                 Head-on\n",
      "DCA_Key_Approach_Dir                                              S\n",
      "Count_Casualty_Fatality                                           0\n",
      "Count_Casualty_Hospitalised                                       1\n",
      "Count_Casualty_MedicallyTreated                                   0\n",
      "Count_Casualty_MinorInjury                                        0\n",
      "Count_Casualty_Total                                              1\n",
      "Count_Unit_Car                                                    1\n",
      "Count_Unit_Motorcycle_Moped                                       0\n",
      "Count_Unit_Truck                                                  0\n",
      "Count_Unit_Bus                                                    0\n",
      "Count_Unit_Bicycle                                                1\n",
      "Count_Unit_Pedestrian                                             0\n",
      "Count_Unit_Other                                                  0\n",
      "geometry                                                       None\n",
      "Name: 0, dtype: object\n"
     ]
    }
   ],
   "source": [
    "a = spots.iloc[0]\n",
    "print(a)\n",
    "a.geometry"
   ]
  },
  {
   "cell_type": "code",
   "execution_count": 7,
   "metadata": {},
   "outputs": [
    {
     "ename": "AttributeError",
     "evalue": "'DataFrame' object has no attribute 'geometry'",
     "output_type": "error",
     "traceback": [
      "\u001b[0;31m---------------------------------------------------------------------------\u001b[0m",
      "\u001b[0;31mAttributeError\u001b[0m                            Traceback (most recent call last)",
      "\u001b[0;32m<ipython-input-7-29545ff7cbdd>\u001b[0m in \u001b[0;36m<module>\u001b[0;34m\u001b[0m\n\u001b[0;32m----> 1\u001b[0;31m \u001b[0mqldloc\u001b[0m\u001b[0;34m.\u001b[0m\u001b[0mgeometry\u001b[0m\u001b[0;34m(\u001b[0m\u001b[0;34m)\u001b[0m\u001b[0;34m\u001b[0m\u001b[0;34m\u001b[0m\u001b[0m\n\u001b[0m",
      "\u001b[0;32m/anaconda3/lib/python3.7/site-packages/pandas/core/generic.py\u001b[0m in \u001b[0;36m__getattr__\u001b[0;34m(self, name)\u001b[0m\n\u001b[1;32m   5065\u001b[0m             \u001b[0;32mif\u001b[0m \u001b[0mself\u001b[0m\u001b[0;34m.\u001b[0m\u001b[0m_info_axis\u001b[0m\u001b[0;34m.\u001b[0m\u001b[0m_can_hold_identifiers_and_holds_name\u001b[0m\u001b[0;34m(\u001b[0m\u001b[0mname\u001b[0m\u001b[0;34m)\u001b[0m\u001b[0;34m:\u001b[0m\u001b[0;34m\u001b[0m\u001b[0;34m\u001b[0m\u001b[0m\n\u001b[1;32m   5066\u001b[0m                 \u001b[0;32mreturn\u001b[0m \u001b[0mself\u001b[0m\u001b[0;34m[\u001b[0m\u001b[0mname\u001b[0m\u001b[0;34m]\u001b[0m\u001b[0;34m\u001b[0m\u001b[0;34m\u001b[0m\u001b[0m\n\u001b[0;32m-> 5067\u001b[0;31m             \u001b[0;32mreturn\u001b[0m \u001b[0mobject\u001b[0m\u001b[0;34m.\u001b[0m\u001b[0m__getattribute__\u001b[0m\u001b[0;34m(\u001b[0m\u001b[0mself\u001b[0m\u001b[0;34m,\u001b[0m \u001b[0mname\u001b[0m\u001b[0;34m)\u001b[0m\u001b[0;34m\u001b[0m\u001b[0;34m\u001b[0m\u001b[0m\n\u001b[0m\u001b[1;32m   5068\u001b[0m \u001b[0;34m\u001b[0m\u001b[0m\n\u001b[1;32m   5069\u001b[0m     \u001b[0;32mdef\u001b[0m \u001b[0m__setattr__\u001b[0m\u001b[0;34m(\u001b[0m\u001b[0mself\u001b[0m\u001b[0;34m,\u001b[0m \u001b[0mname\u001b[0m\u001b[0;34m,\u001b[0m \u001b[0mvalue\u001b[0m\u001b[0;34m)\u001b[0m\u001b[0;34m:\u001b[0m\u001b[0;34m\u001b[0m\u001b[0;34m\u001b[0m\u001b[0m\n",
      "\u001b[0;31mAttributeError\u001b[0m: 'DataFrame' object has no attribute 'geometry'"
     ]
    }
   ],
   "source": [
    "qldloc.geometry()\n"
   ]
  },
  {
   "cell_type": "code",
   "execution_count": 19,
   "metadata": {},
   "outputs": [
    {
     "ename": "TypeError",
     "evalue": "inner() got multiple values for argument 'ax'",
     "output_type": "error",
     "traceback": [
      "\u001b[0;31m---------------------------------------------------------------------------\u001b[0m",
      "\u001b[0;31mTypeError\u001b[0m                                 Traceback (most recent call last)",
      "\u001b[0;32m<ipython-input-19-3f792489f5d7>\u001b[0m in \u001b[0;36m<module>\u001b[0;34m\u001b[0m\n\u001b[1;32m      4\u001b[0m \u001b[0mplt\u001b[0m\u001b[0;34m.\u001b[0m\u001b[0mxlim\u001b[0m\u001b[0;34m(\u001b[0m\u001b[0;34m-\u001b[0m\u001b[0;36m30\u001b[0m\u001b[0;34m,\u001b[0m\u001b[0;34m-\u001b[0m\u001b[0;36m8\u001b[0m\u001b[0;34m)\u001b[0m\u001b[0;34m\u001b[0m\u001b[0;34m\u001b[0m\u001b[0m\n\u001b[1;32m      5\u001b[0m \u001b[0max\u001b[0m \u001b[0;34m=\u001b[0m \u001b[0mplt\u001b[0m\u001b[0;34m.\u001b[0m\u001b[0mfigure\u001b[0m\u001b[0;34m(\u001b[0m\u001b[0mfigsize\u001b[0m \u001b[0;34m=\u001b[0m \u001b[0;34m(\u001b[0m\u001b[0;36m10\u001b[0m\u001b[0;34m,\u001b[0m\u001b[0;36m30\u001b[0m\u001b[0;34m)\u001b[0m\u001b[0;34m)\u001b[0m\u001b[0;34m\u001b[0m\u001b[0;34m\u001b[0m\u001b[0m\n\u001b[0;32m----> 6\u001b[0;31m \u001b[0mplt\u001b[0m\u001b[0;34m.\u001b[0m\u001b[0mscatter\u001b[0m\u001b[0;34m(\u001b[0m\u001b[0mx\u001b[0m\u001b[0;34m,\u001b[0m\u001b[0my\u001b[0m\u001b[0;34m,\u001b[0m\u001b[0max\u001b[0m\u001b[0;34m=\u001b[0m\u001b[0max\u001b[0m\u001b[0;34m)\u001b[0m\u001b[0;34m\u001b[0m\u001b[0;34m\u001b[0m\u001b[0m\n\u001b[0m",
      "\u001b[0;32m/anaconda3/lib/python3.7/site-packages/matplotlib/pyplot.py\u001b[0m in \u001b[0;36mscatter\u001b[0;34m(x, y, s, c, marker, cmap, norm, vmin, vmax, alpha, linewidths, verts, edgecolors, data, **kwargs)\u001b[0m\n\u001b[1;32m   2860\u001b[0m         \u001b[0mvmin\u001b[0m\u001b[0;34m=\u001b[0m\u001b[0mvmin\u001b[0m\u001b[0;34m,\u001b[0m \u001b[0mvmax\u001b[0m\u001b[0;34m=\u001b[0m\u001b[0mvmax\u001b[0m\u001b[0;34m,\u001b[0m \u001b[0malpha\u001b[0m\u001b[0;34m=\u001b[0m\u001b[0malpha\u001b[0m\u001b[0;34m,\u001b[0m \u001b[0mlinewidths\u001b[0m\u001b[0;34m=\u001b[0m\u001b[0mlinewidths\u001b[0m\u001b[0;34m,\u001b[0m\u001b[0;34m\u001b[0m\u001b[0;34m\u001b[0m\u001b[0m\n\u001b[1;32m   2861\u001b[0m         verts=verts, edgecolors=edgecolors, **({\"data\": data} if data\n\u001b[0;32m-> 2862\u001b[0;31m         is not None else {}), **kwargs)\n\u001b[0m\u001b[1;32m   2863\u001b[0m     \u001b[0msci\u001b[0m\u001b[0;34m(\u001b[0m\u001b[0m__ret\u001b[0m\u001b[0;34m)\u001b[0m\u001b[0;34m\u001b[0m\u001b[0;34m\u001b[0m\u001b[0m\n\u001b[1;32m   2864\u001b[0m     \u001b[0;32mreturn\u001b[0m \u001b[0m__ret\u001b[0m\u001b[0;34m\u001b[0m\u001b[0;34m\u001b[0m\u001b[0m\n",
      "\u001b[0;31mTypeError\u001b[0m: inner() got multiple values for argument 'ax'"
     ]
    },
    {
     "data": {
      "image/png": "[encoded data removed]",
      "text/plain": [
       "<Figure size 432x288 with 1 Axes>"
      ]
     },
     "metadata": {
      "needs_background": "light"
     },
     "output_type": "display_data"
    },
    {
     "data": {
      "image/png": "[encoded data removed]",
      "text/plain": [
       "<Figure size 720x2160 with 1 Axes>"
      ]
     },
     "metadata": {
      "needs_background": "light"
     },
     "output_type": "display_data"
    }
   ],
   "source": [
    "x= qldloc[\"Crash_Latitude_GDA94\"]\n",
    "y= qldloc[\"Crash_Longitude_GDA94\"]\n",
    "plt.ylim(135,155)\n",
    "plt.xlim(-30,-8)\n",
    "ax = plt.figure(figsize = (10,30))\n",
    "plt.scatter(x,y,ax)\n"
   ]
  },
  {
   "cell_type": "code",
   "execution_count": 28,
   "metadata": {},
   "outputs": [
    {
     "data": {
      "image/png": "[encoded data removed]",
      "text/plain": [
       "<Figure size 216x432 with 1 Axes>"
      ]
     },
     "metadata": {
      "needs_background": "light"
     },
     "output_type": "display_data"
    }
   ],
   "source": [
    "fig= plt.figure(figsize=(3,6))\n",
    "axes= fig.add_axes([0.1,0.1,0.8,0.8])\n",
    "\n",
    "x= qldloc[\"Crash_Latitude_GDA94\"][(qldloc[\"Crash_Latitude_GDA94\"] < -4) & (qldloc[\"Crash_Longitude_GDA94\"] > 100)]\n",
    "y= qldloc[\"Crash_Longitude_GDA94\"][(qldloc[\"Crash_Latitude_GDA94\"] < -4) & (qldloc[\"Crash_Longitude_GDA94\"] > 100)]\n",
    "\n",
    "axes.scatter(x,y)\n",
    "\n",
    "plt.show()"
   ]
  },
  {
   "cell_type": "code",
   "execution_count": null,
   "metadata": {},
   "outputs": [],
   "source": []
  }
 ],
 "metadata": {
  "kernelspec": {
   "display_name": "Python 3",
   "language": "python",
   "name": "python3"
  },
  "language_info": {
   "codemirror_mode": {
    "name": "ipython",
    "version": 3
   },
   "file_extension": ".py",
   "mimetype": "text/x-python",
   "name": "python",
   "nbconvert_exporter": "python",
   "pygments_lexer": "ipython3",
   "version": "3.7.3"
  }
 },
 "nbformat": 4,
 "nbformat_minor": 2
}
